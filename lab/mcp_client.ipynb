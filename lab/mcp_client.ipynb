{
 "cells": [
  {
   "cell_type": "code",
   "execution_count": null,
   "id": "481428f3",
   "metadata": {},
   "outputs": [],
   "source": []
  },
  {
   "cell_type": "code",
   "execution_count": 2,
   "id": "cfe5dc3a",
   "metadata": {},
   "outputs": [],
   "source": [
    "import asyncio\n",
    "from mcp.client.session import ClientSession\n",
    "from mcp.client.stdio import StdioServerParameters, stdio_client"
   ]
  },
  {
   "cell_type": "code",
   "execution_count": 3,
   "id": "8c9beb67",
   "metadata": {},
   "outputs": [],
   "source": [
    "async def main():\n",
    "    async with stdio_client(\n",
    "        StdioServerParameters(command=\"uv\", args=[\"run\", \"mcp-simple-tool\"])\n",
    "    ) as (read, write):\n",
    "        async with ClientSession(read, write) as session:\n",
    "            await session.initialize()\n",
    "\n",
    "            # List available tools\n",
    "            tools = await session.list_tools()\n",
    "            print(tools)\n",
    "\n",
    "            # Call the fetch tool\n",
    "            result = await session.call_tool(\"fetch\", {\"url\": \"https://example.com\"})\n",
    "            print(result)"
   ]
  },
  {
   "cell_type": "code",
   "execution_count": 5,
   "id": "a94dd165",
   "metadata": {},
   "outputs": [
    {
     "data": {
      "text/plain": [
       "<coroutine object main at 0x7f1f808edfc0>"
      ]
     },
     "execution_count": 5,
     "metadata": {},
     "output_type": "execute_result"
    }
   ],
   "source": [
    "main()"
   ]
  }
 ],
 "metadata": {
  "kernelspec": {
   "display_name": "dev",
   "language": "python",
   "name": "python3"
  },
  "language_info": {
   "codemirror_mode": {
    "name": "ipython",
    "version": 3
   },
   "file_extension": ".py",
   "mimetype": "text/x-python",
   "name": "python",
   "nbconvert_exporter": "python",
   "pygments_lexer": "ipython3",
   "version": "3.10.16"
  }
 },
 "nbformat": 4,
 "nbformat_minor": 5
}
